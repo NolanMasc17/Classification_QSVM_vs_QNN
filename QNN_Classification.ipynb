{
 "cells": [
  {
   "cell_type": "code",
   "execution_count": 76,
   "id": "23c9089b-664d-46fb-bf41-5280cef05240",
   "metadata": {
    "tags": []
   },
   "outputs": [],
   "source": [
    "from sklearn import model_selection, datasets, svm\n",
    "from qiskit import QuantumCircuit, Aer, IBMQ, QuantumRegister, ClassicalRegister\n",
    "import qiskit\n",
    "import numpy as np\n",
    "import copy\n",
    "import matplotlib.pyplot as plt"
   ]
  },
  {
   "cell_type": "code",
   "execution_count": 77,
   "id": "16afcb0f-33be-4954-9d56-c9f7ebec2e6b",
   "metadata": {
    "tags": []
   },
   "outputs": [],
   "source": [
    "iris = datasets.load_iris()\n",
    "X = iris.data[0:100]\n",
    "Y = iris.target[0:100]\n",
    "X_train, X_test, Y_train, Y_test = model_selection.train_test_split(X, Y, test_size=0.33, random_state=42)"
   ]
  },
  {
   "cell_type": "code",
   "execution_count": 78,
   "id": "5a377244-d3b1-4622-916b-f44a9729ae8c",
   "metadata": {
    "tags": []
   },
   "outputs": [
    {
     "name": "stdout",
     "output_type": "stream",
     "text": [
      "[0 1 0 1 1 0 0 0 0 0 1 0 0 1 0 1 0 0 0 0 0 0 1 0 1 0 1 1 1 1 0 1 1 0 1 1 1\n",
      " 1 0 1 0 1 1 1 0 1 1 1 1 0 0 0 1 0 0 0 1 1 1 1 1 0 1 1 0 1 1]\n"
     ]
    }
   ],
   "source": [
    "print(Y_train)"
   ]
  },
  {
   "cell_type": "code",
   "execution_count": 79,
   "id": "cac28a3d-a905-426f-9ee7-1130bcabbd9d",
   "metadata": {
    "tags": []
   },
   "outputs": [
    {
     "name": "stdout",
     "output_type": "stream",
     "text": [
      "[5.2 3.4 1.4 0.2]\n"
     ]
    }
   ],
   "source": [
    "print(X_train[0])"
   ]
  },
  {
   "cell_type": "code",
   "execution_count": 80,
   "id": "6ba4db60-6f84-4469-8f70-bec754d41305",
   "metadata": {
    "tags": []
   },
   "outputs": [],
   "source": [
    "N = 4 "
   ]
  },
  {
   "cell_type": "code",
   "execution_count": 81,
   "id": "a9f37309-5e4f-4fec-8653-ee6f6774a399",
   "metadata": {
    "tags": []
   },
   "outputs": [],
   "source": [
    "def feature_map(X) :\n",
    "    q = QuantumRegister(N)\n",
    "    c = ClassicalRegister(1)\n",
    "    qc = QuantumCircuit(q,c)\n",
    "    \n",
    "    for i, x in enumerate(X) :\n",
    "        qc.rx(x, i)\n",
    "        \n",
    "    return qc, c"
   ]
  },
  {
   "cell_type": "code",
   "execution_count": 82,
   "id": "4d3ee172-c92a-4f6f-9525-cf4587c9ecdc",
   "metadata": {
    "tags": []
   },
   "outputs": [],
   "source": [
    "def variational_circuit(qc, theta):\n",
    "    \n",
    "    for i in range(N-1):\n",
    "        qc.cnot(i, i+1)\n",
    "    qc.cnot(N-1, 0)\n",
    "    for i in range(N):\n",
    "        qc.ry(theta[i], i)\n",
    "    return qc\n",
    "        "
   ]
  },
  {
   "cell_type": "code",
   "execution_count": 83,
   "id": "7501bbec-49ff-4120-bca5-7a46475055b6",
   "metadata": {
    "tags": []
   },
   "outputs": [
    {
     "data": {
      "image/png": "[encoded data removed]",
      "text/plain": [
       "<Figure size 891.005x451.5 with 1 Axes>"
      ]
     },
     "execution_count": 83,
     "metadata": {},
     "output_type": "execute_result"
    }
   ],
   "source": [
    "def quantum_nn(X, theta, simulator=True):\n",
    "    \n",
    "    qc, c = feature_map(X)\n",
    "    qc = variational_circuit(qc, theta)\n",
    "    qc.measure(0,c)\n",
    "    \n",
    "    shots = 1E4\n",
    "    backend = Aer.get_backend('qasm_simulator')\n",
    "    \n",
    "    if simulator == False:\n",
    "        \n",
    "        shots = 5000\n",
    "        provider = IBMQ.load_account()\n",
    "        backend = provider.get_backend('ibmq_athens')\n",
    "        \n",
    "    job = qiskit.execute(qc, backend, shots=shots)\n",
    "    result = job.result()\n",
    "    counts = result.get_counts(qc)\n",
    "    \n",
    "    return(counts['1']/shots)\n",
    "\n",
    "qc.draw('mpl')"
   ]
  },
  {
   "cell_type": "code",
   "execution_count": 84,
   "id": "22a82abd-35c5-474c-954e-d43a1d70ddfa",
   "metadata": {
    "tags": []
   },
   "outputs": [],
   "source": [
    "def loss (prediction, target):\n",
    "    return (prediction - target)**2"
   ]
  },
  {
   "cell_type": "code",
   "execution_count": 85,
   "id": "35b859e5-80ca-4f30-b820-455b0aada097",
   "metadata": {
    "tags": []
   },
   "outputs": [],
   "source": [
    "def gradient(X, Y, theta):\n",
    "    \n",
    "    delta = 0.01\n",
    "    grad = []\n",
    "    for i in range(len(theta)):\n",
    "        \n",
    "        dtheta = copy.copy(theta)\n",
    "        dtheta[i] += delta\n",
    "        \n",
    "        pred1 = quantum_nn(X, dtheta)\n",
    "        pred2 = quantum_nn(X, theta)\n",
    "        \n",
    "        grad.append((loss(pred1, Y) - loss(pred2, Y)) / delta)\n",
    "        \n",
    "    return np.array(grad)"
   ]
  },
  {
   "cell_type": "code",
   "execution_count": 86,
   "id": "252d2ffd-d4bc-4a2f-ade1-4487a55a4086",
   "metadata": {
    "tags": []
   },
   "outputs": [],
   "source": [
    "def accuracy(X, Y, theta):\n",
    "    \n",
    "    counter = 0\n",
    "    for X_i, Y_i in zip(X, Y):\n",
    "        \n",
    "        prediction = quantum_nn(X_i, theta)\n",
    "        \n",
    "        if prediction < 0.5 and Y_i == 0:\n",
    "            counter += 1\n",
    "        elif prediction >= 0.5 and Y_i == 1:\n",
    "            counter += 1\n",
    "            \n",
    "    return counter/len(Y)"
   ]
  },
  {
   "cell_type": "code",
   "execution_count": 87,
   "id": "14c9cbbc-7e47-4df0-90da-c2a9f297b9ef",
   "metadata": {},
   "outputs": [
    {
     "name": "stdout",
     "output_type": "stream",
     "text": [
      "Epoch \t Loss \t Training Accuracy\n",
      "0 \t 0.273 \t 0.224\n",
      "1 \t 0.243 \t 0.866\n",
      "2 \t 0.213 \t 0.851\n",
      "3 \t 0.208 \t 0.776\n",
      "4 \t 0.207 \t 0.821\n",
      "5 \t 0.206 \t 0.836\n",
      "6 \t 0.202 \t 0.836\n",
      "7 \t 0.201 \t 0.806\n",
      "8 \t 0.202 \t 0.821\n",
      "9 \t 0.200 \t 0.836\n",
      "10 \t 0.201 \t 0.806\n",
      "11 \t 0.201 \t 0.851\n",
      "12 \t 0.202 \t 0.836\n",
      "13 \t 0.202 \t 0.821\n",
      "14 \t 0.201 \t 0.821\n",
      "15 \t 0.202 \t 0.851\n",
      "16 \t 0.200 \t 0.821\n",
      "17 \t 0.202 \t 0.821\n",
      "18 \t 0.201 \t 0.806\n",
      "19 \t 0.202 \t 0.806\n"
     ]
    }
   ],
   "source": [
    "eta = 0.05\n",
    "loss_list = []\n",
    "theta = np.ones(N)\n",
    "\n",
    "print('Epoch \\t Loss \\t Training Accuracy')\n",
    "\n",
    "for i in range(20):\n",
    "    \n",
    "    loss_tmp = []\n",
    "    for X_i, Y_i in zip(X_train, Y_train):\n",
    "\n",
    "        prediction = quantum_nn(X_i, theta)\n",
    "        loss_tmp.append(loss(prediction, Y_i))\n",
    "        theta = theta - eta * gradient(X_i, Y_i, theta)\n",
    "        \n",
    "    loss_list.append(np.mean(loss_tmp))\n",
    "    acc = accuracy(X_train, Y_train, theta)\n",
    "    \n",
    "    print(f'{i} \\t {loss_list[-1]:.3f} \\t {acc:.3f}')"
   ]
  },
  {
   "cell_type": "code",
   "execution_count": 88,
   "id": "97bf0b33-8f3a-490e-a323-b16d7a88a1a5",
   "metadata": {
    "tags": []
   },
   "outputs": [
    {
     "data": {
      "image/png": "[encoded data removed]",
      "text/plain": [
       "<Figure size 640x480 with 1 Axes>"
      ]
     },
     "metadata": {},
     "output_type": "display_data"
    }
   ],
   "source": [
    "plt.plot(loss_list)\n",
    "plt.xlabel('Epoch')\n",
    "plt.ylabel('Loss')\n",
    "plt.show()"
   ]
  },
  {
   "cell_type": "code",
   "execution_count": 89,
   "id": "4da11fe1-87ad-422d-b1fe-a500ac904cca",
   "metadata": {
    "tags": []
   },
   "outputs": [
    {
     "data": {
      "text/plain": [
       "0.7575757575757576"
      ]
     },
     "execution_count": 89,
     "metadata": {},
     "output_type": "execute_result"
    }
   ],
   "source": [
    "accuracy(X_test, Y_test, theta)"
   ]
  },
  {
   "cell_type": "code",
   "execution_count": 90,
   "id": "287cc8c6-b7ff-4bc5-bdfe-62cc36cb1a66",
   "metadata": {
    "tags": []
   },
   "outputs": [
    {
     "data": {
      "text/html": [
       "<style>#sk-container-id-2 {color: black;background-color: white;}#sk-container-id-2 pre{padding: 0;}#sk-container-id-2 div.sk-toggleable {background-color: white;}#sk-container-id-2 label.sk-toggleable__label {cursor: pointer;display: block;width: 100%;margin-bottom: 0;padding: 0.3em;box-sizing: border-box;text-align: center;}#sk-container-id-2 label.sk-toggleable__label-arrow:before {content: \"▸\";float: left;margin-right: 0.25em;color: #696969;}#sk-container-id-2 label.sk-toggleable__label-arrow:hover:before {color: black;}#sk-container-id-2 div.sk-estimator:hover label.sk-toggleable__label-arrow:before {color: black;}#sk-container-id-2 div.sk-toggleable__content {max-height: 0;max-width: 0;overflow: hidden;text-align: left;background-color: #f0f8ff;}#sk-container-id-2 div.sk-toggleable__content pre {margin: 0.2em;color: black;border-radius: 0.25em;background-color: #f0f8ff;}#sk-container-id-2 input.sk-toggleable__control:checked~div.sk-toggleable__content {max-height: 200px;max-width: 100%;overflow: auto;}#sk-container-id-2 input.sk-toggleable__control:checked~label.sk-toggleable__label-arrow:before {content: \"▾\";}#sk-container-id-2 div.sk-estimator input.sk-toggleable__control:checked~label.sk-toggleable__label {background-color: #d4ebff;}#sk-container-id-2 div.sk-label input.sk-toggleable__control:checked~label.sk-toggleable__label {background-color: #d4ebff;}#sk-container-id-2 input.sk-hidden--visually {border: 0;clip: rect(1px 1px 1px 1px);clip: rect(1px, 1px, 1px, 1px);height: 1px;margin: -1px;overflow: hidden;padding: 0;position: absolute;width: 1px;}#sk-container-id-2 div.sk-estimator {font-family: monospace;background-color: #f0f8ff;border: 1px dotted black;border-radius: 0.25em;box-sizing: border-box;margin-bottom: 0.5em;}#sk-container-id-2 div.sk-estimator:hover {background-color: #d4ebff;}#sk-container-id-2 div.sk-parallel-item::after {content: \"\";width: 100%;border-bottom: 1px solid gray;flex-grow: 1;}#sk-container-id-2 div.sk-label:hover label.sk-toggleable__label {background-color: #d4ebff;}#sk-container-id-2 div.sk-serial::before {content: \"\";position: absolute;border-left: 1px solid gray;box-sizing: border-box;top: 0;bottom: 0;left: 50%;z-index: 0;}#sk-container-id-2 div.sk-serial {display: flex;flex-direction: column;align-items: center;background-color: white;padding-right: 0.2em;padding-left: 0.2em;position: relative;}#sk-container-id-2 div.sk-item {position: relative;z-index: 1;}#sk-container-id-2 div.sk-parallel {display: flex;align-items: stretch;justify-content: center;background-color: white;position: relative;}#sk-container-id-2 div.sk-item::before, #sk-container-id-2 div.sk-parallel-item::before {content: \"\";position: absolute;border-left: 1px solid gray;box-sizing: border-box;top: 0;bottom: 0;left: 50%;z-index: -1;}#sk-container-id-2 div.sk-parallel-item {display: flex;flex-direction: column;z-index: 1;position: relative;background-color: white;}#sk-container-id-2 div.sk-parallel-item:first-child::after {align-self: flex-end;width: 50%;}#sk-container-id-2 div.sk-parallel-item:last-child::after {align-self: flex-start;width: 50%;}#sk-container-id-2 div.sk-parallel-item:only-child::after {width: 0;}#sk-container-id-2 div.sk-dashed-wrapped {border: 1px dashed gray;margin: 0 0.4em 0.5em 0.4em;box-sizing: border-box;padding-bottom: 0.4em;background-color: white;}#sk-container-id-2 div.sk-label label {font-family: monospace;font-weight: bold;display: inline-block;line-height: 1.2em;}#sk-container-id-2 div.sk-label-container {text-align: center;}#sk-container-id-2 div.sk-container {/* jupyter's `normalize.less` sets `[hidden] { display: none; }` but bootstrap.min.css set `[hidden] { display: none !important; }` so we also need the `!important` here to be able to override the default hidden behavior on the sphinx rendered scikit-learn.org. See: https://github.com/scikit-learn/scikit-learn/issues/21755 */display: inline-block !important;position: relative;}#sk-container-id-2 div.sk-text-repr-fallback {display: none;}</style><div id=\"sk-container-id-2\" class=\"sk-top-container\"><div class=\"sk-text-repr-fallback\"><pre>SVC()</pre><b>In a Jupyter environment, please rerun this cell to show the HTML representation or trust the notebook. <br />On GitHub, the HTML representation is unable to render, please try loading this page with nbviewer.org.</b></div><div class=\"sk-container\" hidden><div class=\"sk-item\"><div class=\"sk-estimator sk-toggleable\"><input class=\"sk-toggleable__control sk-hidden--visually\" id=\"sk-estimator-id-2\" type=\"checkbox\" checked><label for=\"sk-estimator-id-2\" class=\"sk-toggleable__label sk-toggleable__label-arrow\">SVC</label><div class=\"sk-toggleable__content\"><pre>SVC()</pre></div></div></div></div></div>"
      ],
      "text/plain": [
       "SVC()"
      ]
     },
     "execution_count": 90,
     "metadata": {},
     "output_type": "execute_result"
    }
   ],
   "source": [
    "clf = svm.SVC()\n",
    "clf.fit(X_train, Y_train)"
   ]
  },
  {
   "cell_type": "code",
   "execution_count": 91,
   "id": "14227192-2ae6-42a1-9b9e-d7b22806611f",
   "metadata": {
    "tags": []
   },
   "outputs": [
    {
     "name": "stdout",
     "output_type": "stream",
     "text": [
      "[1 1 1 0 0 0 0 1 0 0 0 0 1 0 1 0 1 1 0 0 1 1 0 0 1 0 0 1 0 1 0 0 1]\n",
      "[1 1 1 0 0 0 0 1 0 0 0 0 1 0 1 0 1 1 0 0 1 1 0 0 1 0 0 1 0 1 0 0 1]\n"
     ]
    }
   ],
   "source": [
    "print(clf.predict(X_test))\n",
    "print(Y_test)"
   ]
  }
 ],
 "metadata": {
  "kernelspec": {
   "display_name": "Python 3 (ipykernel)",
   "language": "python",
   "name": "python3"
  },
  "language_info": {
   "codemirror_mode": {
    "name": "ipython",
    "version": 3
   },
   "file_extension": ".py",
   "mimetype": "text/x-python",
   "name": "python",
   "nbconvert_exporter": "python",
   "pygments_lexer": "ipython3",
   "version": "3.9.6"
  }
 },
 "nbformat": 4,
 "nbformat_minor": 5
}
